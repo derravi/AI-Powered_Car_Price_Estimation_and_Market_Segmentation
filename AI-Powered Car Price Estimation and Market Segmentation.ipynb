{
 "cells": [
  {
   "cell_type": "code",
   "execution_count": 2,
   "id": "be6344e9-2a05-4c07-9f1f-d751bda6908e",
   "metadata": {},
   "outputs": [],
   "source": [
    "import pandas as pd\n",
    "from sklearn.preprocessing import LabelEncoder,OrdinalEncoder,StandardScaler\n",
    "import matplotlib.pyplot as plt\n",
    "import seaborn as sns\n",
    "from sklearn.model_selection import train_test_split\n",
    "from sklearn.linear_model import LinearRegression\n",
    "from sklearn.metrics import mean_absolute_error,mean_squared_error,r2_score,accuracy_score,classification_report\n",
    "from sklearn.tree import DecisionTreeRegressor\n",
    "import numpy as np\n",
    "#from xgboost import XGBRegressor"
   ]
  },
  {
   "cell_type": "code",
   "execution_count": 3,
   "id": "f573885a-91e6-4298-a199-afbd26d447f1",
   "metadata": {},
   "outputs": [
    {
     "name": "stdout",
     "output_type": "stream",
     "text": [
      "Lets Load the Datasheet........\n",
      "\n"
     ]
    }
   ],
   "source": [
    "#Data load\n",
    "print(\"Lets Load the Datasheet........\\n\")\n",
    "df = pd.read_csv(\"Data Sheet/CAR DETAILS FROM CAR DEKHO.csv\")"
   ]
  },
  {
   "cell_type": "code",
   "execution_count": 4,
   "id": "88a66d84-2492-433b-a794-fa207d3c8616",
   "metadata": {},
   "outputs": [
    {
     "name": "stdout",
     "output_type": "stream",
     "text": [
      "The Total Rows of the Datasets is 4340 and the total Columns is 8.\n",
      "\n"
     ]
    }
   ],
   "source": [
    "#Check The Rows And Columns of the Datasets.\n",
    "def shape():\n",
    "    return f\"The Total Rows of the Datasets is {df.shape[0]} and the total Columns is {df.shape[1]}.\\n\"\n",
    "shape_object = shape()\n",
    "print(shape_object)\n"
   ]
  },
  {
   "cell_type": "code",
   "execution_count": 5,
   "id": "e6b623b4-b519-44fd-8f36-237442055806",
   "metadata": {},
   "outputs": [
    {
     "name": "stdout",
     "output_type": "stream",
     "text": [
      "Lets see some datasets valus..........\n",
      "\n"
     ]
    },
    {
     "data": {
      "text/html": [
       "<div>\n",
       "<style scoped>\n",
       "    .dataframe tbody tr th:only-of-type {\n",
       "        vertical-align: middle;\n",
       "    }\n",
       "\n",
       "    .dataframe tbody tr th {\n",
       "        vertical-align: top;\n",
       "    }\n",
       "\n",
       "    .dataframe thead th {\n",
       "        text-align: right;\n",
       "    }\n",
       "</style>\n",
       "<table border=\"1\" class=\"dataframe\">\n",
       "  <thead>\n",
       "    <tr style=\"text-align: right;\">\n",
       "      <th></th>\n",
       "      <th>name</th>\n",
       "      <th>year</th>\n",
       "      <th>selling_price</th>\n",
       "      <th>km_driven</th>\n",
       "      <th>fuel</th>\n",
       "      <th>seller_type</th>\n",
       "      <th>transmission</th>\n",
       "      <th>owner</th>\n",
       "    </tr>\n",
       "  </thead>\n",
       "  <tbody>\n",
       "    <tr>\n",
       "      <th>0</th>\n",
       "      <td>Maruti 800 AC</td>\n",
       "      <td>2007</td>\n",
       "      <td>60000</td>\n",
       "      <td>70000</td>\n",
       "      <td>Petrol</td>\n",
       "      <td>Individual</td>\n",
       "      <td>Manual</td>\n",
       "      <td>First Owner</td>\n",
       "    </tr>\n",
       "    <tr>\n",
       "      <th>1</th>\n",
       "      <td>Maruti Wagon R LXI Minor</td>\n",
       "      <td>2007</td>\n",
       "      <td>135000</td>\n",
       "      <td>50000</td>\n",
       "      <td>Petrol</td>\n",
       "      <td>Individual</td>\n",
       "      <td>Manual</td>\n",
       "      <td>First Owner</td>\n",
       "    </tr>\n",
       "    <tr>\n",
       "      <th>2</th>\n",
       "      <td>Hyundai Verna 1.6 SX</td>\n",
       "      <td>2012</td>\n",
       "      <td>600000</td>\n",
       "      <td>100000</td>\n",
       "      <td>Diesel</td>\n",
       "      <td>Individual</td>\n",
       "      <td>Manual</td>\n",
       "      <td>First Owner</td>\n",
       "    </tr>\n",
       "    <tr>\n",
       "      <th>3</th>\n",
       "      <td>Datsun RediGO T Option</td>\n",
       "      <td>2017</td>\n",
       "      <td>250000</td>\n",
       "      <td>46000</td>\n",
       "      <td>Petrol</td>\n",
       "      <td>Individual</td>\n",
       "      <td>Manual</td>\n",
       "      <td>First Owner</td>\n",
       "    </tr>\n",
       "    <tr>\n",
       "      <th>4</th>\n",
       "      <td>Honda Amaze VX i-DTEC</td>\n",
       "      <td>2014</td>\n",
       "      <td>450000</td>\n",
       "      <td>141000</td>\n",
       "      <td>Diesel</td>\n",
       "      <td>Individual</td>\n",
       "      <td>Manual</td>\n",
       "      <td>Second Owner</td>\n",
       "    </tr>\n",
       "  </tbody>\n",
       "</table>\n",
       "</div>"
      ],
      "text/plain": [
       "                       name  year  selling_price  km_driven    fuel  \\\n",
       "0             Maruti 800 AC  2007          60000      70000  Petrol   \n",
       "1  Maruti Wagon R LXI Minor  2007         135000      50000  Petrol   \n",
       "2      Hyundai Verna 1.6 SX  2012         600000     100000  Diesel   \n",
       "3    Datsun RediGO T Option  2017         250000      46000  Petrol   \n",
       "4     Honda Amaze VX i-DTEC  2014         450000     141000  Diesel   \n",
       "\n",
       "  seller_type transmission         owner  \n",
       "0  Individual       Manual   First Owner  \n",
       "1  Individual       Manual   First Owner  \n",
       "2  Individual       Manual   First Owner  \n",
       "3  Individual       Manual   First Owner  \n",
       "4  Individual       Manual  Second Owner  "
      ]
     },
     "execution_count": 5,
     "metadata": {},
     "output_type": "execute_result"
    }
   ],
   "source": [
    "#Show some data of the Datasets\n",
    "\n",
    "print(\"Lets see some datasets valus..........\\n\")\n",
    "df.head()"
   ]
  },
  {
   "cell_type": "code",
   "execution_count": 6,
   "id": "a83348fc-51ae-4c91-afd3-34e946ee0905",
   "metadata": {},
   "outputs": [
    {
     "name": "stdout",
     "output_type": "stream",
     "text": [
      "Lets Clean the datasets.......\n",
      "\n",
      "Lets see there is any Null Values are not......\n",
      "\n"
     ]
    },
    {
     "data": {
      "text/plain": [
       "name             0\n",
       "year             0\n",
       "selling_price    0\n",
       "km_driven        0\n",
       "fuel             0\n",
       "seller_type      0\n",
       "transmission     0\n",
       "owner            0\n",
       "dtype: int64"
      ]
     },
     "execution_count": 6,
     "metadata": {},
     "output_type": "execute_result"
    }
   ],
   "source": [
    "#Cleaning Data\n",
    "print(\"Lets Clean the datasets.......\\n\")\n",
    "\n",
    "print(\"Lets see there is any Null Values are not......\\n\")\n",
    "\n",
    "df.isnull().sum()"
   ]
  },
  {
   "cell_type": "code",
   "execution_count": 7,
   "id": "832d3505-5f0a-46f8-a8d3-f129f97b019d",
   "metadata": {},
   "outputs": [
    {
     "data": {
      "image/png": "[encoded data removed]",
      "text/plain": [
       "<Figure size 900x500 with 1 Axes>"
      ]
     },
     "metadata": {},
     "output_type": "display_data"
    }
   ],
   "source": [
    "#Compares average prices between Petrol, Diesel, CNG, etc.\n",
    "\n",
    "plt.figure(figsize=(9,5))\n",
    "df.groupby('fuel')['selling_price'].mean().sort_values().plot(kind='bar',color=\"green\",edgecolor=\"black\")\n",
    "plt.title(\"Compares average prices between Petrol, Diesel, CNG, etc.\")\n",
    "plt.xlabel(\"Fuel Type\")\n",
    "plt.ylabel(\"Average Selling Price (₹)\")\n",
    "plt.xticks(rotation=0)\n",
    "plt.grid(True,color=\"grey\")\n",
    "plt.savefig(\"Graph images/Average_vs_fuel.jpg\",dpi=400,bbox_inches='tight')\n",
    "plt.show()"
   ]
  },
  {
   "cell_type": "code",
   "execution_count": 8,
   "id": "5dbbdcf7-3adb-47ec-b674-be4522869d43",
   "metadata": {},
   "outputs": [
    {
     "data": {
      "image/png": "[encoded data removed]",
      "text/plain": [
       "<Figure size 600x500 with 1 Axes>"
      ]
     },
     "metadata": {},
     "output_type": "display_data"
    }
   ],
   "source": [
    "plt.figure(figsize=(6,5))\n",
    "df['transmission'].value_counts().plot(kind='pie', autopct='%1.1f%%', startangle=90, colors=['skyblue', 'blue'])\n",
    "plt.title(\"Percentage of Transmission Types\")\n",
    "plt.ylabel(\"\")\n",
    "plt.savefig(\"Graph images/Transmission_types.jpg\",dpi=400,bbox_inches='tight')\n",
    "plt.show()"
   ]
  },
  {
   "cell_type": "code",
   "execution_count": 9,
   "id": "8b3eff8a-2f71-4da4-9875-b5c69a6514e5",
   "metadata": {},
   "outputs": [
    {
     "name": "stdout",
     "output_type": "stream",
     "text": [
      "Relationship Between KM Driven and Selling Price.....\n",
      "\n"
     ]
    },
    {
     "data": {
      "image/png": "[encoded data removed]",
      "text/plain": [
       "<Figure size 900x500 with 1 Axes>"
      ]
     },
     "metadata": {},
     "output_type": "display_data"
    }
   ],
   "source": [
    "#Relationship Between KM Driven and Selling Price\n",
    "print(\"Relationship Between KM Driven and Selling Price.....\\n\")\n",
    "plt.figure(figsize=(9,5))\n",
    "plt.scatter(df['km_driven'],df['selling_price'],color=\"red\",edgecolor=\"black\")\n",
    "plt.title(\"Relationship between KM Driven and Selling Price\")\n",
    "plt.xlabel(\"KM Drive (KM)\")\n",
    "plt.ylabel(\"Selling Price (₹)\")\n",
    "plt.grid(True,color=\"grey\")\n",
    "plt.savefig(\"Graph images/KM_Driven_and_Selling_Price.jpg\",dpi=400,bbox_inches='tight')\n",
    "plt.show()"
   ]
  },
  {
   "cell_type": "code",
   "execution_count": 10,
   "id": "244046e3-2419-4dfd-8b8d-fd1c809e5092",
   "metadata": {},
   "outputs": [
    {
     "name": "stdout",
     "output_type": "stream",
     "text": [
      "Line Chart: Average Car Price vs KM Driven...\n",
      "\n"
     ]
    },
    {
     "name": "stderr",
     "output_type": "stream",
     "text": [
      "C:\\Users\\Admin\\AppData\\Local\\Temp\\ipykernel_4028\\392679081.py:7: FutureWarning: The default of observed=False is deprecated and will be changed to True in a future version of pandas. Pass observed=False to retain current behavior or observed=True to adopt the future default and silence this warning.\n",
      "  avg_price_by_km = df.groupby('km_bin')['selling_price'].mean()\n"
     ]
    },
    {
     "data": {
      "image/png": "[encoded data removed]",
      "text/plain": [
       "<Figure size 1200x600 with 1 Axes>"
      ]
     },
     "metadata": {},
     "output_type": "display_data"
    }
   ],
   "source": [
    "print(\"Line Chart: Average Car Price vs KM Driven...\\n\")\n",
    "\n",
    "# Create bins for km driven\n",
    "\n",
    "df['km_bin'] = pd.cut(df['km_driven'], bins=10)\n",
    "\n",
    "avg_price_by_km = df.groupby('km_bin')['selling_price'].mean()\n",
    "\n",
    "plt.figure(figsize=(12,6))\n",
    "plt.plot(avg_price_by_km.index.astype(str), avg_price_by_km.values, marker='o', color='darkorange', linewidth=2)\n",
    "plt.title(\"Average Car Selling Price vs KM Driven\")\n",
    "plt.xlabel(\"KM Driven Range\")\n",
    "plt.ylabel(\"Average Selling Price (₹)\")\n",
    "plt.xticks(rotation=45)\n",
    "plt.grid(True, linestyle='--', alpha=0.6)\n",
    "plt.tight_layout()\n",
    "plt.savefig(\"Graph images/Average_Price_vs_KMDriven.png\", dpi=400, bbox_inches='tight')\n",
    "plt.show()"
   ]
  },
  {
   "cell_type": "code",
   "execution_count": 11,
   "id": "12e45c8b-acb9-4c80-827d-b18bbe73d20d",
   "metadata": {},
   "outputs": [
    {
     "name": "stdout",
     "output_type": "stream",
     "text": [
      "['Petrol' 'Diesel' 'CNG' 'LPG' 'Electric']\n",
      "['Individual' 'Dealer' 'Trustmark Dealer']\n",
      "['Manual' 'Automatic']\n",
      "['First Owner' 'Second Owner' 'Fourth & Above Owner' 'Third Owner'\n",
      " 'Test Drive Car']\n"
     ]
    }
   ],
   "source": [
    "#Lets use some encoding technique to encode the Labeled data from the datasets.\n",
    "\n",
    "print(df['fuel'].unique())\n",
    "print(df['seller_type'].unique())\n",
    "print(df['transmission'].unique())\n",
    "print(df['owner'].unique())"
   ]
  },
  {
   "cell_type": "code",
   "execution_count": 12,
   "id": "f630c594-2b3b-423b-a358-cfc3d29683a1",
   "metadata": {},
   "outputs": [
    {
     "name": "stdout",
     "output_type": "stream",
     "text": [
      "Lets see the Full Dataset After this encoding.......\n",
      "\n"
     ]
    },
    {
     "data": {
      "text/html": [
       "<div>\n",
       "<style scoped>\n",
       "    .dataframe tbody tr th:only-of-type {\n",
       "        vertical-align: middle;\n",
       "    }\n",
       "\n",
       "    .dataframe tbody tr th {\n",
       "        vertical-align: top;\n",
       "    }\n",
       "\n",
       "    .dataframe thead th {\n",
       "        text-align: right;\n",
       "    }\n",
       "</style>\n",
       "<table border=\"1\" class=\"dataframe\">\n",
       "  <thead>\n",
       "    <tr style=\"text-align: right;\">\n",
       "      <th></th>\n",
       "      <th>name</th>\n",
       "      <th>year</th>\n",
       "      <th>selling_price</th>\n",
       "      <th>km_driven</th>\n",
       "      <th>fuel</th>\n",
       "      <th>seller_type</th>\n",
       "      <th>transmission</th>\n",
       "      <th>owner</th>\n",
       "      <th>km_bin</th>\n",
       "    </tr>\n",
       "  </thead>\n",
       "  <tbody>\n",
       "    <tr>\n",
       "      <th>0</th>\n",
       "      <td>Maruti 800 AC</td>\n",
       "      <td>2007</td>\n",
       "      <td>60000</td>\n",
       "      <td>70000</td>\n",
       "      <td>Petrol</td>\n",
       "      <td>Individual</td>\n",
       "      <td>Manual</td>\n",
       "      <td>First Owner</td>\n",
       "      <td>(-805.598, 80660.8]</td>\n",
       "    </tr>\n",
       "    <tr>\n",
       "      <th>1</th>\n",
       "      <td>Maruti Wagon R LXI Minor</td>\n",
       "      <td>2007</td>\n",
       "      <td>135000</td>\n",
       "      <td>50000</td>\n",
       "      <td>Petrol</td>\n",
       "      <td>Individual</td>\n",
       "      <td>Manual</td>\n",
       "      <td>First Owner</td>\n",
       "      <td>(-805.598, 80660.8]</td>\n",
       "    </tr>\n",
       "    <tr>\n",
       "      <th>2</th>\n",
       "      <td>Hyundai Verna 1.6 SX</td>\n",
       "      <td>2012</td>\n",
       "      <td>600000</td>\n",
       "      <td>100000</td>\n",
       "      <td>Diesel</td>\n",
       "      <td>Individual</td>\n",
       "      <td>Manual</td>\n",
       "      <td>First Owner</td>\n",
       "      <td>(80660.8, 161320.6]</td>\n",
       "    </tr>\n",
       "    <tr>\n",
       "      <th>3</th>\n",
       "      <td>Datsun RediGO T Option</td>\n",
       "      <td>2017</td>\n",
       "      <td>250000</td>\n",
       "      <td>46000</td>\n",
       "      <td>Petrol</td>\n",
       "      <td>Individual</td>\n",
       "      <td>Manual</td>\n",
       "      <td>First Owner</td>\n",
       "      <td>(-805.598, 80660.8]</td>\n",
       "    </tr>\n",
       "    <tr>\n",
       "      <th>4</th>\n",
       "      <td>Honda Amaze VX i-DTEC</td>\n",
       "      <td>2014</td>\n",
       "      <td>450000</td>\n",
       "      <td>141000</td>\n",
       "      <td>Diesel</td>\n",
       "      <td>Individual</td>\n",
       "      <td>Manual</td>\n",
       "      <td>Second Owner</td>\n",
       "      <td>(80660.8, 161320.6]</td>\n",
       "    </tr>\n",
       "    <tr>\n",
       "      <th>5</th>\n",
       "      <td>Maruti Alto LX BSIII</td>\n",
       "      <td>2007</td>\n",
       "      <td>140000</td>\n",
       "      <td>125000</td>\n",
       "      <td>Petrol</td>\n",
       "      <td>Individual</td>\n",
       "      <td>Manual</td>\n",
       "      <td>First Owner</td>\n",
       "      <td>(80660.8, 161320.6]</td>\n",
       "    </tr>\n",
       "    <tr>\n",
       "      <th>6</th>\n",
       "      <td>Hyundai Xcent 1.2 Kappa S</td>\n",
       "      <td>2016</td>\n",
       "      <td>550000</td>\n",
       "      <td>25000</td>\n",
       "      <td>Petrol</td>\n",
       "      <td>Individual</td>\n",
       "      <td>Manual</td>\n",
       "      <td>First Owner</td>\n",
       "      <td>(-805.598, 80660.8]</td>\n",
       "    </tr>\n",
       "    <tr>\n",
       "      <th>7</th>\n",
       "      <td>Tata Indigo Grand Petrol</td>\n",
       "      <td>2014</td>\n",
       "      <td>240000</td>\n",
       "      <td>60000</td>\n",
       "      <td>Petrol</td>\n",
       "      <td>Individual</td>\n",
       "      <td>Manual</td>\n",
       "      <td>Second Owner</td>\n",
       "      <td>(-805.598, 80660.8]</td>\n",
       "    </tr>\n",
       "    <tr>\n",
       "      <th>8</th>\n",
       "      <td>Hyundai Creta 1.6 VTVT S</td>\n",
       "      <td>2015</td>\n",
       "      <td>850000</td>\n",
       "      <td>25000</td>\n",
       "      <td>Petrol</td>\n",
       "      <td>Individual</td>\n",
       "      <td>Manual</td>\n",
       "      <td>First Owner</td>\n",
       "      <td>(-805.598, 80660.8]</td>\n",
       "    </tr>\n",
       "    <tr>\n",
       "      <th>9</th>\n",
       "      <td>Maruti Celerio Green VXI</td>\n",
       "      <td>2017</td>\n",
       "      <td>365000</td>\n",
       "      <td>78000</td>\n",
       "      <td>CNG</td>\n",
       "      <td>Individual</td>\n",
       "      <td>Manual</td>\n",
       "      <td>First Owner</td>\n",
       "      <td>(-805.598, 80660.8]</td>\n",
       "    </tr>\n",
       "  </tbody>\n",
       "</table>\n",
       "</div>"
      ],
      "text/plain": [
       "                        name  year  selling_price  km_driven    fuel  \\\n",
       "0              Maruti 800 AC  2007          60000      70000  Petrol   \n",
       "1   Maruti Wagon R LXI Minor  2007         135000      50000  Petrol   \n",
       "2       Hyundai Verna 1.6 SX  2012         600000     100000  Diesel   \n",
       "3     Datsun RediGO T Option  2017         250000      46000  Petrol   \n",
       "4      Honda Amaze VX i-DTEC  2014         450000     141000  Diesel   \n",
       "5       Maruti Alto LX BSIII  2007         140000     125000  Petrol   \n",
       "6  Hyundai Xcent 1.2 Kappa S  2016         550000      25000  Petrol   \n",
       "7   Tata Indigo Grand Petrol  2014         240000      60000  Petrol   \n",
       "8   Hyundai Creta 1.6 VTVT S  2015         850000      25000  Petrol   \n",
       "9   Maruti Celerio Green VXI  2017         365000      78000     CNG   \n",
       "\n",
       "  seller_type transmission         owner               km_bin  \n",
       "0  Individual       Manual   First Owner  (-805.598, 80660.8]  \n",
       "1  Individual       Manual   First Owner  (-805.598, 80660.8]  \n",
       "2  Individual       Manual   First Owner  (80660.8, 161320.6]  \n",
       "3  Individual       Manual   First Owner  (-805.598, 80660.8]  \n",
       "4  Individual       Manual  Second Owner  (80660.8, 161320.6]  \n",
       "5  Individual       Manual   First Owner  (80660.8, 161320.6]  \n",
       "6  Individual       Manual   First Owner  (-805.598, 80660.8]  \n",
       "7  Individual       Manual  Second Owner  (-805.598, 80660.8]  \n",
       "8  Individual       Manual   First Owner  (-805.598, 80660.8]  \n",
       "9  Individual       Manual   First Owner  (-805.598, 80660.8]  "
      ]
     },
     "execution_count": 12,
     "metadata": {},
     "output_type": "execute_result"
    }
   ],
   "source": [
    "print(\"Lets see the Full Dataset After this encoding.......\\n\")\n",
    "df.head(10)"
   ]
  },
  {
   "cell_type": "code",
   "execution_count": 13,
   "id": "337a23b0-35a4-44b6-bf27-e2d14d2e65d6",
   "metadata": {},
   "outputs": [
    {
     "name": "stdout",
     "output_type": "stream",
     "text": [
      "Lets Make two new columns of this Name of the cars that is 'Brand', 'Unique Model'..........\n",
      "\n",
      "Lets see the Updated data sheet after the making this new columns.........\n",
      "\n"
     ]
    },
    {
     "data": {
      "text/html": [
       "<div>\n",
       "<style scoped>\n",
       "    .dataframe tbody tr th:only-of-type {\n",
       "        vertical-align: middle;\n",
       "    }\n",
       "\n",
       "    .dataframe tbody tr th {\n",
       "        vertical-align: top;\n",
       "    }\n",
       "\n",
       "    .dataframe thead th {\n",
       "        text-align: right;\n",
       "    }\n",
       "</style>\n",
       "<table border=\"1\" class=\"dataframe\">\n",
       "  <thead>\n",
       "    <tr style=\"text-align: right;\">\n",
       "      <th></th>\n",
       "      <th>name</th>\n",
       "      <th>year</th>\n",
       "      <th>selling_price</th>\n",
       "      <th>km_driven</th>\n",
       "      <th>fuel</th>\n",
       "      <th>seller_type</th>\n",
       "      <th>transmission</th>\n",
       "      <th>owner</th>\n",
       "      <th>km_bin</th>\n",
       "      <th>brand</th>\n",
       "      <th>unique_model_number</th>\n",
       "    </tr>\n",
       "  </thead>\n",
       "  <tbody>\n",
       "    <tr>\n",
       "      <th>0</th>\n",
       "      <td>Maruti 800 AC</td>\n",
       "      <td>2007</td>\n",
       "      <td>60000</td>\n",
       "      <td>70000</td>\n",
       "      <td>Petrol</td>\n",
       "      <td>Individual</td>\n",
       "      <td>Manual</td>\n",
       "      <td>First Owner</td>\n",
       "      <td>(-805.598, 80660.8]</td>\n",
       "      <td>Maruti 800</td>\n",
       "      <td>AC</td>\n",
       "    </tr>\n",
       "    <tr>\n",
       "      <th>1</th>\n",
       "      <td>Maruti Wagon R LXI Minor</td>\n",
       "      <td>2007</td>\n",
       "      <td>135000</td>\n",
       "      <td>50000</td>\n",
       "      <td>Petrol</td>\n",
       "      <td>Individual</td>\n",
       "      <td>Manual</td>\n",
       "      <td>First Owner</td>\n",
       "      <td>(-805.598, 80660.8]</td>\n",
       "      <td>Maruti Wagon</td>\n",
       "      <td>R LXI Minor</td>\n",
       "    </tr>\n",
       "    <tr>\n",
       "      <th>2</th>\n",
       "      <td>Hyundai Verna 1.6 SX</td>\n",
       "      <td>2012</td>\n",
       "      <td>600000</td>\n",
       "      <td>100000</td>\n",
       "      <td>Diesel</td>\n",
       "      <td>Individual</td>\n",
       "      <td>Manual</td>\n",
       "      <td>First Owner</td>\n",
       "      <td>(80660.8, 161320.6]</td>\n",
       "      <td>Hyundai Verna</td>\n",
       "      <td>1.6 SX</td>\n",
       "    </tr>\n",
       "    <tr>\n",
       "      <th>3</th>\n",
       "      <td>Datsun RediGO T Option</td>\n",
       "      <td>2017</td>\n",
       "      <td>250000</td>\n",
       "      <td>46000</td>\n",
       "      <td>Petrol</td>\n",
       "      <td>Individual</td>\n",
       "      <td>Manual</td>\n",
       "      <td>First Owner</td>\n",
       "      <td>(-805.598, 80660.8]</td>\n",
       "      <td>Datsun RediGO</td>\n",
       "      <td>T Option</td>\n",
       "    </tr>\n",
       "    <tr>\n",
       "      <th>4</th>\n",
       "      <td>Honda Amaze VX i-DTEC</td>\n",
       "      <td>2014</td>\n",
       "      <td>450000</td>\n",
       "      <td>141000</td>\n",
       "      <td>Diesel</td>\n",
       "      <td>Individual</td>\n",
       "      <td>Manual</td>\n",
       "      <td>Second Owner</td>\n",
       "      <td>(80660.8, 161320.6]</td>\n",
       "      <td>Honda Amaze</td>\n",
       "      <td>VX i-DTEC</td>\n",
       "    </tr>\n",
       "  </tbody>\n",
       "</table>\n",
       "</div>"
      ],
      "text/plain": [
       "                       name  year  selling_price  km_driven    fuel  \\\n",
       "0             Maruti 800 AC  2007          60000      70000  Petrol   \n",
       "1  Maruti Wagon R LXI Minor  2007         135000      50000  Petrol   \n",
       "2      Hyundai Verna 1.6 SX  2012         600000     100000  Diesel   \n",
       "3    Datsun RediGO T Option  2017         250000      46000  Petrol   \n",
       "4     Honda Amaze VX i-DTEC  2014         450000     141000  Diesel   \n",
       "\n",
       "  seller_type transmission         owner               km_bin          brand  \\\n",
       "0  Individual       Manual   First Owner  (-805.598, 80660.8]     Maruti 800   \n",
       "1  Individual       Manual   First Owner  (-805.598, 80660.8]   Maruti Wagon   \n",
       "2  Individual       Manual   First Owner  (80660.8, 161320.6]  Hyundai Verna   \n",
       "3  Individual       Manual   First Owner  (-805.598, 80660.8]  Datsun RediGO   \n",
       "4  Individual       Manual  Second Owner  (80660.8, 161320.6]    Honda Amaze   \n",
       "\n",
       "  unique_model_number  \n",
       "0                  AC  \n",
       "1         R LXI Minor  \n",
       "2              1.6 SX  \n",
       "3            T Option  \n",
       "4           VX i-DTEC  "
      ]
     },
     "execution_count": 13,
     "metadata": {},
     "output_type": "execute_result"
    }
   ],
   "source": [
    "#Lets Make two new columns of this Name of the cars that is \"Brand\", \"Unique Model\"\n",
    "\n",
    "print(\"Lets Make two new columns of this Name of the cars that is 'Brand', 'Unique Model'..........\\n\")\n",
    "\n",
    "df['brand'] = df[\"name\"].str.split(' ').str[:2]\n",
    "df['unique_model_number'] = df[\"name\"].str.split(' ').str[2::]\n",
    "\n",
    "df['brand'] = df['brand'].apply(lambda x : ' '.join(x))\n",
    "df['unique_model_number'] = df['unique_model_number'].apply(lambda y: ' '.join(y))\n",
    "\n",
    "print(\"Lets see the Updated data sheet after the making this new columns.........\\n\")\n",
    "df.head()"
   ]
  },
  {
   "cell_type": "code",
   "execution_count": 14,
   "id": "369e7e57-a541-412f-ba84-bcd5caa42294",
   "metadata": {},
   "outputs": [
    {
     "name": "stdout",
     "output_type": "stream",
     "text": [
      "Lets Drope the Unwanted Name Column from the datasheets and see the updated datasets.......\n",
      "\n"
     ]
    },
    {
     "data": {
      "text/html": [
       "<div>\n",
       "<style scoped>\n",
       "    .dataframe tbody tr th:only-of-type {\n",
       "        vertical-align: middle;\n",
       "    }\n",
       "\n",
       "    .dataframe tbody tr th {\n",
       "        vertical-align: top;\n",
       "    }\n",
       "\n",
       "    .dataframe thead th {\n",
       "        text-align: right;\n",
       "    }\n",
       "</style>\n",
       "<table border=\"1\" class=\"dataframe\">\n",
       "  <thead>\n",
       "    <tr style=\"text-align: right;\">\n",
       "      <th></th>\n",
       "      <th>year</th>\n",
       "      <th>selling_price</th>\n",
       "      <th>km_driven</th>\n",
       "      <th>fuel</th>\n",
       "      <th>seller_type</th>\n",
       "      <th>transmission</th>\n",
       "      <th>owner</th>\n",
       "      <th>km_bin</th>\n",
       "      <th>brand</th>\n",
       "      <th>unique_model_number</th>\n",
       "    </tr>\n",
       "  </thead>\n",
       "  <tbody>\n",
       "    <tr>\n",
       "      <th>0</th>\n",
       "      <td>2007</td>\n",
       "      <td>60000</td>\n",
       "      <td>70000</td>\n",
       "      <td>Petrol</td>\n",
       "      <td>Individual</td>\n",
       "      <td>Manual</td>\n",
       "      <td>First Owner</td>\n",
       "      <td>(-805.598, 80660.8]</td>\n",
       "      <td>Maruti 800</td>\n",
       "      <td>AC</td>\n",
       "    </tr>\n",
       "    <tr>\n",
       "      <th>1</th>\n",
       "      <td>2007</td>\n",
       "      <td>135000</td>\n",
       "      <td>50000</td>\n",
       "      <td>Petrol</td>\n",
       "      <td>Individual</td>\n",
       "      <td>Manual</td>\n",
       "      <td>First Owner</td>\n",
       "      <td>(-805.598, 80660.8]</td>\n",
       "      <td>Maruti Wagon</td>\n",
       "      <td>R LXI Minor</td>\n",
       "    </tr>\n",
       "    <tr>\n",
       "      <th>2</th>\n",
       "      <td>2012</td>\n",
       "      <td>600000</td>\n",
       "      <td>100000</td>\n",
       "      <td>Diesel</td>\n",
       "      <td>Individual</td>\n",
       "      <td>Manual</td>\n",
       "      <td>First Owner</td>\n",
       "      <td>(80660.8, 161320.6]</td>\n",
       "      <td>Hyundai Verna</td>\n",
       "      <td>1.6 SX</td>\n",
       "    </tr>\n",
       "    <tr>\n",
       "      <th>3</th>\n",
       "      <td>2017</td>\n",
       "      <td>250000</td>\n",
       "      <td>46000</td>\n",
       "      <td>Petrol</td>\n",
       "      <td>Individual</td>\n",
       "      <td>Manual</td>\n",
       "      <td>First Owner</td>\n",
       "      <td>(-805.598, 80660.8]</td>\n",
       "      <td>Datsun RediGO</td>\n",
       "      <td>T Option</td>\n",
       "    </tr>\n",
       "    <tr>\n",
       "      <th>4</th>\n",
       "      <td>2014</td>\n",
       "      <td>450000</td>\n",
       "      <td>141000</td>\n",
       "      <td>Diesel</td>\n",
       "      <td>Individual</td>\n",
       "      <td>Manual</td>\n",
       "      <td>Second Owner</td>\n",
       "      <td>(80660.8, 161320.6]</td>\n",
       "      <td>Honda Amaze</td>\n",
       "      <td>VX i-DTEC</td>\n",
       "    </tr>\n",
       "  </tbody>\n",
       "</table>\n",
       "</div>"
      ],
      "text/plain": [
       "   year  selling_price  km_driven    fuel seller_type transmission  \\\n",
       "0  2007          60000      70000  Petrol  Individual       Manual   \n",
       "1  2007         135000      50000  Petrol  Individual       Manual   \n",
       "2  2012         600000     100000  Diesel  Individual       Manual   \n",
       "3  2017         250000      46000  Petrol  Individual       Manual   \n",
       "4  2014         450000     141000  Diesel  Individual       Manual   \n",
       "\n",
       "          owner               km_bin          brand unique_model_number  \n",
       "0   First Owner  (-805.598, 80660.8]     Maruti 800                  AC  \n",
       "1   First Owner  (-805.598, 80660.8]   Maruti Wagon         R LXI Minor  \n",
       "2   First Owner  (80660.8, 161320.6]  Hyundai Verna              1.6 SX  \n",
       "3   First Owner  (-805.598, 80660.8]  Datsun RediGO            T Option  \n",
       "4  Second Owner  (80660.8, 161320.6]    Honda Amaze           VX i-DTEC  "
      ]
     },
     "execution_count": 14,
     "metadata": {},
     "output_type": "execute_result"
    }
   ],
   "source": [
    "print(\"Lets Drope the Unwanted Name Column from the datasheets and see the updated datasets.......\\n\")\n",
    "\n",
    "df.drop('name',axis=1,inplace=True)\n",
    "\n",
    "df.head()"
   ]
  },
  {
   "cell_type": "code",
   "execution_count": 15,
   "id": "58cae14c-b02f-4912-8916-2230cfd2478c",
   "metadata": {},
   "outputs": [
    {
     "name": "stdout",
     "output_type": "stream",
     "text": [
      "Check the columns after the Giving New Indexing.............\n",
      "\n"
     ]
    },
    {
     "data": {
      "text/html": [
       "<div>\n",
       "<style scoped>\n",
       "    .dataframe tbody tr th:only-of-type {\n",
       "        vertical-align: middle;\n",
       "    }\n",
       "\n",
       "    .dataframe tbody tr th {\n",
       "        vertical-align: top;\n",
       "    }\n",
       "\n",
       "    .dataframe thead th {\n",
       "        text-align: right;\n",
       "    }\n",
       "</style>\n",
       "<table border=\"1\" class=\"dataframe\">\n",
       "  <thead>\n",
       "    <tr style=\"text-align: right;\">\n",
       "      <th></th>\n",
       "      <th>brand</th>\n",
       "      <th>unique_model_number</th>\n",
       "      <th>year</th>\n",
       "      <th>fuel</th>\n",
       "      <th>transmission</th>\n",
       "      <th>km_driven</th>\n",
       "      <th>owner</th>\n",
       "      <th>seller_type</th>\n",
       "      <th>selling_price</th>\n",
       "    </tr>\n",
       "  </thead>\n",
       "  <tbody>\n",
       "    <tr>\n",
       "      <th>0</th>\n",
       "      <td>Maruti 800</td>\n",
       "      <td>AC</td>\n",
       "      <td>2007</td>\n",
       "      <td>Petrol</td>\n",
       "      <td>Manual</td>\n",
       "      <td>70000</td>\n",
       "      <td>First Owner</td>\n",
       "      <td>Individual</td>\n",
       "      <td>60000</td>\n",
       "    </tr>\n",
       "    <tr>\n",
       "      <th>1</th>\n",
       "      <td>Maruti Wagon</td>\n",
       "      <td>R LXI Minor</td>\n",
       "      <td>2007</td>\n",
       "      <td>Petrol</td>\n",
       "      <td>Manual</td>\n",
       "      <td>50000</td>\n",
       "      <td>First Owner</td>\n",
       "      <td>Individual</td>\n",
       "      <td>135000</td>\n",
       "    </tr>\n",
       "    <tr>\n",
       "      <th>2</th>\n",
       "      <td>Hyundai Verna</td>\n",
       "      <td>1.6 SX</td>\n",
       "      <td>2012</td>\n",
       "      <td>Diesel</td>\n",
       "      <td>Manual</td>\n",
       "      <td>100000</td>\n",
       "      <td>First Owner</td>\n",
       "      <td>Individual</td>\n",
       "      <td>600000</td>\n",
       "    </tr>\n",
       "    <tr>\n",
       "      <th>3</th>\n",
       "      <td>Datsun RediGO</td>\n",
       "      <td>T Option</td>\n",
       "      <td>2017</td>\n",
       "      <td>Petrol</td>\n",
       "      <td>Manual</td>\n",
       "      <td>46000</td>\n",
       "      <td>First Owner</td>\n",
       "      <td>Individual</td>\n",
       "      <td>250000</td>\n",
       "    </tr>\n",
       "    <tr>\n",
       "      <th>4</th>\n",
       "      <td>Honda Amaze</td>\n",
       "      <td>VX i-DTEC</td>\n",
       "      <td>2014</td>\n",
       "      <td>Diesel</td>\n",
       "      <td>Manual</td>\n",
       "      <td>141000</td>\n",
       "      <td>Second Owner</td>\n",
       "      <td>Individual</td>\n",
       "      <td>450000</td>\n",
       "    </tr>\n",
       "  </tbody>\n",
       "</table>\n",
       "</div>"
      ],
      "text/plain": [
       "           brand unique_model_number  year    fuel transmission  km_driven  \\\n",
       "0     Maruti 800                  AC  2007  Petrol       Manual      70000   \n",
       "1   Maruti Wagon         R LXI Minor  2007  Petrol       Manual      50000   \n",
       "2  Hyundai Verna              1.6 SX  2012  Diesel       Manual     100000   \n",
       "3  Datsun RediGO            T Option  2017  Petrol       Manual      46000   \n",
       "4    Honda Amaze           VX i-DTEC  2014  Diesel       Manual     141000   \n",
       "\n",
       "          owner seller_type  selling_price  \n",
       "0   First Owner  Individual          60000  \n",
       "1   First Owner  Individual         135000  \n",
       "2   First Owner  Individual         600000  \n",
       "3   First Owner  Individual         250000  \n",
       "4  Second Owner  Individual         450000  "
      ]
     },
     "execution_count": 15,
     "metadata": {},
     "output_type": "execute_result"
    }
   ],
   "source": [
    "#Lets Rearrange the columns of this datasets for batter result\n",
    "\n",
    "new_order = ['brand','unique_model_number','year','fuel','transmission','km_driven','owner','seller_type','selling_price']\n",
    "\n",
    "df = df.reindex(columns=new_order)\n",
    "\n",
    "print(\"Check the columns after the Giving New Indexing.............\\n\")\n",
    "df.head()"
   ]
  },
  {
   "cell_type": "code",
   "execution_count": 16,
   "id": "d06a3a0b-02d9-4d7a-8eda-e4c172398c2c",
   "metadata": {},
   "outputs": [
    {
     "name": "stdout",
     "output_type": "stream",
     "text": [
      "Lets Describe all the datasets columns..........\n",
      "\n"
     ]
    },
    {
     "data": {
      "text/html": [
       "<div>\n",
       "<style scoped>\n",
       "    .dataframe tbody tr th:only-of-type {\n",
       "        vertical-align: middle;\n",
       "    }\n",
       "\n",
       "    .dataframe tbody tr th {\n",
       "        vertical-align: top;\n",
       "    }\n",
       "\n",
       "    .dataframe thead th {\n",
       "        text-align: right;\n",
       "    }\n",
       "</style>\n",
       "<table border=\"1\" class=\"dataframe\">\n",
       "  <thead>\n",
       "    <tr style=\"text-align: right;\">\n",
       "      <th></th>\n",
       "      <th>brand</th>\n",
       "      <th>unique_model_number</th>\n",
       "      <th>year</th>\n",
       "      <th>fuel</th>\n",
       "      <th>transmission</th>\n",
       "      <th>km_driven</th>\n",
       "      <th>owner</th>\n",
       "      <th>seller_type</th>\n",
       "      <th>selling_price</th>\n",
       "    </tr>\n",
       "  </thead>\n",
       "  <tbody>\n",
       "    <tr>\n",
       "      <th>count</th>\n",
       "      <td>4340</td>\n",
       "      <td>4340</td>\n",
       "      <td>4340.000000</td>\n",
       "      <td>4340</td>\n",
       "      <td>4340</td>\n",
       "      <td>4340.000000</td>\n",
       "      <td>4340</td>\n",
       "      <td>4340</td>\n",
       "      <td>4.340000e+03</td>\n",
       "    </tr>\n",
       "    <tr>\n",
       "      <th>unique</th>\n",
       "      <td>189</td>\n",
       "      <td>1388</td>\n",
       "      <td>NaN</td>\n",
       "      <td>5</td>\n",
       "      <td>2</td>\n",
       "      <td>NaN</td>\n",
       "      <td>5</td>\n",
       "      <td>3</td>\n",
       "      <td>NaN</td>\n",
       "    </tr>\n",
       "    <tr>\n",
       "      <th>top</th>\n",
       "      <td>Maruti Swift</td>\n",
       "      <td>Dzire VDI</td>\n",
       "      <td>NaN</td>\n",
       "      <td>Diesel</td>\n",
       "      <td>Manual</td>\n",
       "      <td>NaN</td>\n",
       "      <td>First Owner</td>\n",
       "      <td>Individual</td>\n",
       "      <td>NaN</td>\n",
       "    </tr>\n",
       "    <tr>\n",
       "      <th>freq</th>\n",
       "      <td>320</td>\n",
       "      <td>69</td>\n",
       "      <td>NaN</td>\n",
       "      <td>2153</td>\n",
       "      <td>3892</td>\n",
       "      <td>NaN</td>\n",
       "      <td>2832</td>\n",
       "      <td>3244</td>\n",
       "      <td>NaN</td>\n",
       "    </tr>\n",
       "    <tr>\n",
       "      <th>mean</th>\n",
       "      <td>NaN</td>\n",
       "      <td>NaN</td>\n",
       "      <td>2013.090783</td>\n",
       "      <td>NaN</td>\n",
       "      <td>NaN</td>\n",
       "      <td>66215.777419</td>\n",
       "      <td>NaN</td>\n",
       "      <td>NaN</td>\n",
       "      <td>5.041273e+05</td>\n",
       "    </tr>\n",
       "    <tr>\n",
       "      <th>std</th>\n",
       "      <td>NaN</td>\n",
       "      <td>NaN</td>\n",
       "      <td>4.215344</td>\n",
       "      <td>NaN</td>\n",
       "      <td>NaN</td>\n",
       "      <td>46644.102194</td>\n",
       "      <td>NaN</td>\n",
       "      <td>NaN</td>\n",
       "      <td>5.785487e+05</td>\n",
       "    </tr>\n",
       "    <tr>\n",
       "      <th>min</th>\n",
       "      <td>NaN</td>\n",
       "      <td>NaN</td>\n",
       "      <td>1992.000000</td>\n",
       "      <td>NaN</td>\n",
       "      <td>NaN</td>\n",
       "      <td>1.000000</td>\n",
       "      <td>NaN</td>\n",
       "      <td>NaN</td>\n",
       "      <td>2.000000e+04</td>\n",
       "    </tr>\n",
       "    <tr>\n",
       "      <th>25%</th>\n",
       "      <td>NaN</td>\n",
       "      <td>NaN</td>\n",
       "      <td>2011.000000</td>\n",
       "      <td>NaN</td>\n",
       "      <td>NaN</td>\n",
       "      <td>35000.000000</td>\n",
       "      <td>NaN</td>\n",
       "      <td>NaN</td>\n",
       "      <td>2.087498e+05</td>\n",
       "    </tr>\n",
       "    <tr>\n",
       "      <th>50%</th>\n",
       "      <td>NaN</td>\n",
       "      <td>NaN</td>\n",
       "      <td>2014.000000</td>\n",
       "      <td>NaN</td>\n",
       "      <td>NaN</td>\n",
       "      <td>60000.000000</td>\n",
       "      <td>NaN</td>\n",
       "      <td>NaN</td>\n",
       "      <td>3.500000e+05</td>\n",
       "    </tr>\n",
       "    <tr>\n",
       "      <th>75%</th>\n",
       "      <td>NaN</td>\n",
       "      <td>NaN</td>\n",
       "      <td>2016.000000</td>\n",
       "      <td>NaN</td>\n",
       "      <td>NaN</td>\n",
       "      <td>90000.000000</td>\n",
       "      <td>NaN</td>\n",
       "      <td>NaN</td>\n",
       "      <td>6.000000e+05</td>\n",
       "    </tr>\n",
       "    <tr>\n",
       "      <th>max</th>\n",
       "      <td>NaN</td>\n",
       "      <td>NaN</td>\n",
       "      <td>2020.000000</td>\n",
       "      <td>NaN</td>\n",
       "      <td>NaN</td>\n",
       "      <td>806599.000000</td>\n",
       "      <td>NaN</td>\n",
       "      <td>NaN</td>\n",
       "      <td>8.900000e+06</td>\n",
       "    </tr>\n",
       "  </tbody>\n",
       "</table>\n",
       "</div>"
      ],
      "text/plain": [
       "               brand unique_model_number         year    fuel transmission  \\\n",
       "count           4340                4340  4340.000000    4340         4340   \n",
       "unique           189                1388          NaN       5            2   \n",
       "top     Maruti Swift           Dzire VDI          NaN  Diesel       Manual   \n",
       "freq             320                  69          NaN    2153         3892   \n",
       "mean             NaN                 NaN  2013.090783     NaN          NaN   \n",
       "std              NaN                 NaN     4.215344     NaN          NaN   \n",
       "min              NaN                 NaN  1992.000000     NaN          NaN   \n",
       "25%              NaN                 NaN  2011.000000     NaN          NaN   \n",
       "50%              NaN                 NaN  2014.000000     NaN          NaN   \n",
       "75%              NaN                 NaN  2016.000000     NaN          NaN   \n",
       "max              NaN                 NaN  2020.000000     NaN          NaN   \n",
       "\n",
       "            km_driven        owner seller_type  selling_price  \n",
       "count     4340.000000         4340        4340   4.340000e+03  \n",
       "unique            NaN            5           3            NaN  \n",
       "top               NaN  First Owner  Individual            NaN  \n",
       "freq              NaN         2832        3244            NaN  \n",
       "mean     66215.777419          NaN         NaN   5.041273e+05  \n",
       "std      46644.102194          NaN         NaN   5.785487e+05  \n",
       "min          1.000000          NaN         NaN   2.000000e+04  \n",
       "25%      35000.000000          NaN         NaN   2.087498e+05  \n",
       "50%      60000.000000          NaN         NaN   3.500000e+05  \n",
       "75%      90000.000000          NaN         NaN   6.000000e+05  \n",
       "max     806599.000000          NaN         NaN   8.900000e+06  "
      ]
     },
     "execution_count": 16,
     "metadata": {},
     "output_type": "execute_result"
    }
   ],
   "source": [
    "#Lets Describe all the Datasets Columns.\n",
    "print(\"Lets Describe all the datasets columns..........\\n\")\n",
    "df.describe(include='all')"
   ]
  },
  {
   "cell_type": "code",
   "execution_count": 17,
   "id": "2ba2fa60-c03d-4aa9-8d68-8ed321841017",
   "metadata": {},
   "outputs": [
    {
     "name": "stdout",
     "output_type": "stream",
     "text": [
      "Lets Encode the requered Columns of the datasets..........\n",
      "\n",
      "Object Data Types Column list : ['brand', 'unique_model_number', 'fuel', 'transmission', 'owner', 'seller_type']\n",
      "Int or Float Data Types Column list : ['year', 'km_driven', 'selling_price']\n"
     ]
    }
   ],
   "source": [
    "#Lets Encode the Requered Columns of the Datasets.\n",
    "print(\"Lets Encode the requered Columns of the datasets..........\\n\")\n",
    "\n",
    "temp1 = []\n",
    "temp2 = []\n",
    "\n",
    "for i in df.columns:\n",
    "    if df[i].dtype == 'object':\n",
    "        temp1.append(i)\n",
    "    else:\n",
    "        temp2.append(i)\n",
    "print(\"Object Data Types Column list :\",temp1)\n",
    "print(\"Int or Float Data Types Column list :\",temp2)"
   ]
  },
  {
   "cell_type": "code",
   "execution_count": 18,
   "id": "838f1691-f126-481c-aa11-f6a3e68a406a",
   "metadata": {},
   "outputs": [
    {
     "name": "stdout",
     "output_type": "stream",
     "text": [
      "Encoding Categorical Columns....\n",
      "\n",
      "Encoded Sample:\n",
      "\n"
     ]
    },
    {
     "data": {
      "text/html": [
       "<div>\n",
       "<style scoped>\n",
       "    .dataframe tbody tr th:only-of-type {\n",
       "        vertical-align: middle;\n",
       "    }\n",
       "\n",
       "    .dataframe tbody tr th {\n",
       "        vertical-align: top;\n",
       "    }\n",
       "\n",
       "    .dataframe thead th {\n",
       "        text-align: right;\n",
       "    }\n",
       "</style>\n",
       "<table border=\"1\" class=\"dataframe\">\n",
       "  <thead>\n",
       "    <tr style=\"text-align: right;\">\n",
       "      <th></th>\n",
       "      <th>brand</th>\n",
       "      <th>unique_model_number</th>\n",
       "      <th>year</th>\n",
       "      <th>fuel</th>\n",
       "      <th>transmission</th>\n",
       "      <th>km_driven</th>\n",
       "      <th>owner</th>\n",
       "      <th>seller_type</th>\n",
       "      <th>selling_price</th>\n",
       "    </tr>\n",
       "  </thead>\n",
       "  <tbody>\n",
       "    <tr>\n",
       "      <th>0</th>\n",
       "      <td>97</td>\n",
       "      <td>431</td>\n",
       "      <td>2007</td>\n",
       "      <td>4</td>\n",
       "      <td>1</td>\n",
       "      <td>70000</td>\n",
       "      <td>0</td>\n",
       "      <td>1</td>\n",
       "      <td>60000</td>\n",
       "    </tr>\n",
       "    <tr>\n",
       "      <th>1</th>\n",
       "      <td>117</td>\n",
       "      <td>960</td>\n",
       "      <td>2007</td>\n",
       "      <td>4</td>\n",
       "      <td>1</td>\n",
       "      <td>50000</td>\n",
       "      <td>0</td>\n",
       "      <td>1</td>\n",
       "      <td>135000</td>\n",
       "    </tr>\n",
       "    <tr>\n",
       "      <th>2</th>\n",
       "      <td>69</td>\n",
       "      <td>231</td>\n",
       "      <td>2012</td>\n",
       "      <td>1</td>\n",
       "      <td>1</td>\n",
       "      <td>100000</td>\n",
       "      <td>0</td>\n",
       "      <td>1</td>\n",
       "      <td>600000</td>\n",
       "    </tr>\n",
       "    <tr>\n",
       "      <th>3</th>\n",
       "      <td>27</td>\n",
       "      <td>1103</td>\n",
       "      <td>2017</td>\n",
       "      <td>4</td>\n",
       "      <td>1</td>\n",
       "      <td>46000</td>\n",
       "      <td>0</td>\n",
       "      <td>1</td>\n",
       "      <td>250000</td>\n",
       "    </tr>\n",
       "    <tr>\n",
       "      <th>4</th>\n",
       "      <td>47</td>\n",
       "      <td>1182</td>\n",
       "      <td>2014</td>\n",
       "      <td>1</td>\n",
       "      <td>1</td>\n",
       "      <td>141000</td>\n",
       "      <td>2</td>\n",
       "      <td>1</td>\n",
       "      <td>450000</td>\n",
       "    </tr>\n",
       "  </tbody>\n",
       "</table>\n",
       "</div>"
      ],
      "text/plain": [
       "   brand  unique_model_number  year  fuel  transmission  km_driven  owner  \\\n",
       "0     97                  431  2007     4             1      70000      0   \n",
       "1    117                  960  2007     4             1      50000      0   \n",
       "2     69                  231  2012     1             1     100000      0   \n",
       "3     27                 1103  2017     4             1      46000      0   \n",
       "4     47                 1182  2014     1             1     141000      2   \n",
       "\n",
       "   seller_type  selling_price  \n",
       "0            1          60000  \n",
       "1            1         135000  \n",
       "2            1         600000  \n",
       "3            1         250000  \n",
       "4            1         450000  "
      ]
     },
     "execution_count": 18,
     "metadata": {},
     "output_type": "execute_result"
    }
   ],
   "source": [
    "#Lets Encode the Labeled Data or Object data type columns.\n",
    "print(\"Encoding Categorical Columns....\\n\")\n",
    "\n",
    "categorical_cols = ['brand', 'unique_model_number', 'fuel',\n",
    "                    'transmission', 'owner', 'seller_type']\n",
    "\n",
    "encoders = {}\n",
    "for col in categorical_cols:\n",
    "    le = LabelEncoder()\n",
    "    df[col] = le.fit_transform(df[col])\n",
    "    encoders[col] = le\n",
    "\n",
    "print(\"Encoded Sample:\\n\")\n",
    "df.head()"
   ]
  },
  {
   "cell_type": "code",
   "execution_count": 19,
   "id": "4689c35f-b50b-4519-8d78-2ce8f865bbc2",
   "metadata": {},
   "outputs": [
    {
     "name": "stdout",
     "output_type": "stream",
     "text": [
      "The Total Rows of the Datasets is 4340 and the total Columns is 8.\n",
      "\n"
     ]
    }
   ],
   "source": [
    "print(shape_object)"
   ]
  },
  {
   "cell_type": "code",
   "execution_count": 20,
   "id": "f0514826-2c58-45d8-b9b7-9900dc15c157",
   "metadata": {},
   "outputs": [
    {
     "name": "stdout",
     "output_type": "stream",
     "text": [
      "Lets check there is any outlieres or not.........\n",
      "\n"
     ]
    },
    {
     "data": {
      "image/png": "[encoded data removed]",
      "text/plain": [
       "<Figure size 1500x900 with 1 Axes>"
      ]
     },
     "metadata": {},
     "output_type": "display_data"
    }
   ],
   "source": [
    "#Lets check there is any outlieres or not.\n",
    "\n",
    "print(\"Lets check there is any outlieres or not.........\\n\")\n",
    "\n",
    "numeric_cols = ['year', 'km_driven', 'selling_price'] \n",
    "\n",
    "plt.figure(figsize=(15, 3 * len(numeric_cols)))\n",
    "for i, col in enumerate(numeric_cols, 1):\n",
    "    sns.boxplot(x=df[col])\n",
    "    plt.title(col)\n",
    "plt.tight_layout()\n",
    "plt.show()"
   ]
  },
  {
   "cell_type": "code",
   "execution_count": 21,
   "id": "1bd046d1-ccbc-4fae-a9a8-1e6833845171",
   "metadata": {},
   "outputs": [
    {
     "name": "stdout",
     "output_type": "stream",
     "text": [
      "Lets Remove the Outliers From the Requerede Columns...............\n",
      "\n",
      "Outlieres is Removed...............\n",
      "\n",
      "Now The Total Rows of the Datasets is 4340 and the total Columns is 8.\n",
      "\n"
     ]
    }
   ],
   "source": [
    "#Lets Remove the Outliers From the Requerede Columns \n",
    "print(\"Lets Remove the Outliers From the Requerede Columns...............\\n\")\n",
    "temp3 = ['km_driven','selling_price']\n",
    "\n",
    "for i in temp3:\n",
    "    q1 = df[i].quantile(0.25)\n",
    "    q3 = df[i].quantile(0.75)\n",
    "\n",
    "    iqr = q3-q1\n",
    "\n",
    "    min_range = q1 - (1.5*iqr)\n",
    "    max_range = q3 + (1.5*iqr)\n",
    "\n",
    "    df = df[(df[i] >= min_range) & (df[i] <= max_range)]\n",
    "print(\"Outlieres is Removed...............\\n\")\n",
    "print(\"Now\",shape_object)"
   ]
  },
  {
   "cell_type": "code",
   "execution_count": 22,
   "id": "0dfcdfb8-2099-4951-8dc2-52130a3c4078",
   "metadata": {},
   "outputs": [
    {
     "name": "stdout",
     "output_type": "stream",
     "text": [
      "Lets Check again there is any outliers is still pending or not.............\n",
      "\n"
     ]
    },
    {
     "data": {
      "image/png": "[encoded data removed]",
      "text/plain": [
       "<Figure size 1500x900 with 1 Axes>"
      ]
     },
     "metadata": {},
     "output_type": "display_data"
    },
    {
     "name": "stdout",
     "output_type": "stream",
     "text": [
      "Now There is no any outlieres is present..........\n",
      "\n"
     ]
    }
   ],
   "source": [
    "print(\"Lets Check again there is any outliers is still pending or not.............\\n\")\n",
    "\n",
    "plt.figure(figsize=(15, 3 * len(numeric_cols)))\n",
    "for i, col in enumerate(numeric_cols, 1):\n",
    "    sns.boxplot(x=df[col])\n",
    "    plt.title(col)\n",
    "plt.tight_layout()\n",
    "plt.show()\n",
    "\n",
    "print(\"Now There is no any outlieres is present..........\\n\")"
   ]
  },
  {
   "cell_type": "code",
   "execution_count": 23,
   "id": "39c9ad77-8c64-4345-a6d0-ef2c1c9b1b85",
   "metadata": {},
   "outputs": [],
   "source": [
    "#Lets Devide this into the Saperate columns for the train test split data\n",
    "\n",
    "x = df.iloc[:,:-1]\n",
    "y = df['selling_price']\n",
    "\n",
    "x_train,x_test,y_train,y_test = train_test_split(x,y,test_size=0.2,random_state=42)"
   ]
  },
  {
   "cell_type": "code",
   "execution_count": 24,
   "id": "c2f807f1-077a-4faf-93b3-35f8eed63a96",
   "metadata": {},
   "outputs": [
    {
     "name": "stdout",
     "output_type": "stream",
     "text": [
      "Lets Rescale the datasets using StandardScaler........\n",
      "\n"
     ]
    }
   ],
   "source": [
    "#Lets Rescale the All the data.\n",
    "print(\"Lets Rescale the datasets using StandardScaler........\\n\")\n",
    "\n",
    "scaler = StandardScaler()\n",
    "x_train_scaler = scaler.fit_transform(x_train)\n",
    "x_test_scaler = scaler.transform(x_test)"
   ]
  },
  {
   "cell_type": "code",
   "execution_count": 25,
   "id": "6349bbfa-4ae1-4aac-9365-ec19c313f950",
   "metadata": {},
   "outputs": [
    {
     "name": "stdout",
     "output_type": "stream",
     "text": [
      "Lets use the LinearRegression model for predict the Price..........\n",
      "\n",
      "Linear Regression Model Performance:\n",
      "\n",
      "Mean Absolute Error (MAE) :  131252.94\n",
      "Mean Square Error (MSE): 30868807941.51\n",
      "Root Mean Squared Error: 175695.21320032064\n",
      "R2 Score :  50.68689948267029 %\n"
     ]
    }
   ],
   "source": [
    "#Lets Use first Linear Regression Model.......\n",
    "print(\"Lets use the LinearRegression model for predict the Price..........\\n\")\n",
    "lr = LinearRegression()\n",
    "\n",
    "lr.fit(x_train_scaler,y_train)\n",
    "y_predict_lr = lr.predict(x_test_scaler)\n",
    "\n",
    "print(\"Linear Regression Model Performance:\\n\")\n",
    "print(\"Mean Absolute Error (MAE) : \",round(mean_absolute_error(y_test,y_predict_lr),2))\n",
    "print(\"Mean Square Error (MSE):\",round(mean_squared_error(y_test,y_predict_lr),2))\n",
    "print(\"Root Mean Squared Error:\",np.sqrt(mean_squared_error(y_test,y_predict_lr)))\n",
    "print(\"R2 Score : \",(r2_score(y_test,y_predict_lr))*100,\"%\")"
   ]
  },
  {
   "cell_type": "code",
   "execution_count": 26,
   "id": "ab29f771-a8b5-48af-94ea-1b76d0a463a2",
   "metadata": {},
   "outputs": [
    {
     "name": "stdout",
     "output_type": "stream",
     "text": [
      "Lets use the Decision Tree Regressor Model..........\n",
      "\n",
      "Decision Tree Model Performance:\n",
      "\n",
      "Mean Absolute Error (MAE) :  85853 2\n",
      "Mean Square Error (MSE): 18051702215 2\n",
      "Root Mean Squared Error: 134356.623262771\n",
      "R2 Score :  71.16230054937566 %\n"
     ]
    }
   ],
   "source": [
    "#Lets see the Decision Tree Regressor Model.\n",
    "\n",
    "print(\"Lets use the Decision Tree Regressor Model..........\\n\")\n",
    "\n",
    "dtrm = DecisionTreeRegressor(max_depth=10,random_state=42)\n",
    "\n",
    "dtrm.fit(x_train,y_train)\n",
    "y_predict_dtrm = dtrm.predict(x_test)\n",
    "\n",
    "print(\"Decision Tree Model Performance:\\n\")\n",
    "print(\"Mean Absolute Error (MAE) : \",round(mean_absolute_error(y_test,y_predict_dtrm)),2)\n",
    "print(\"Mean Square Error (MSE):\",round(mean_squared_error(y_test,y_predict_dtrm)),2)\n",
    "print(\"Root Mean Squared Error:\",np.sqrt(mean_squared_error(y_test,y_predict_dtrm)))\n",
    "print(\"R2 Score : \",(r2_score(y_test,y_predict_dtrm))*100,\"%\")"
   ]
  },
  {
   "cell_type": "code",
   "execution_count": 28,
   "id": "73932d15-28c9-491a-bfe6-d88fdb9e7128",
   "metadata": {},
   "outputs": [
    {
     "name": "stdout",
     "output_type": "stream",
     "text": [
      "Lets use the XGBoost Regressor Model..........\n",
      "\n"
     ]
    },
    {
     "ename": "NameError",
     "evalue": "name 'XGBRegressor' is not defined",
     "output_type": "error",
     "traceback": [
      "\u001b[31m---------------------------------------------------------------------------\u001b[39m",
      "\u001b[31mNameError\u001b[39m                                 Traceback (most recent call last)",
      "\u001b[36mCell\u001b[39m\u001b[36m \u001b[39m\u001b[32mIn[28]\u001b[39m\u001b[32m, line 5\u001b[39m\n\u001b[32m      1\u001b[39m \u001b[38;5;66;03m# Lets use XGBoost Regressor\u001b[39;00m\n\u001b[32m      3\u001b[39m \u001b[38;5;28mprint\u001b[39m(\u001b[33m\"\u001b[39m\u001b[33mLets use the XGBoost Regressor Model..........\u001b[39m\u001b[38;5;130;01m\\n\u001b[39;00m\u001b[33m\"\u001b[39m)\n\u001b[32m----> \u001b[39m\u001b[32m5\u001b[39m xgb = \u001b[43mXGBRegressor\u001b[49m(\n\u001b[32m      6\u001b[39m     n_estimators=\u001b[32m300\u001b[39m,\n\u001b[32m      7\u001b[39m     learning_rate=\u001b[32m0.05\u001b[39m,\n\u001b[32m      8\u001b[39m     max_depth=\u001b[32m8\u001b[39m,\n\u001b[32m      9\u001b[39m     subsample=\u001b[32m0.8\u001b[39m,\n\u001b[32m     10\u001b[39m     colsample_bytree=\u001b[32m0.8\u001b[39m,\n\u001b[32m     11\u001b[39m     random_state=\u001b[32m42\u001b[39m,\n\u001b[32m     12\u001b[39m     objective=\u001b[33m'\u001b[39m\u001b[33mreg:squarederror\u001b[39m\u001b[33m'\u001b[39m\n\u001b[32m     13\u001b[39m )\n\u001b[32m     15\u001b[39m xgb.fit(x_train,y_train)\n\u001b[32m     16\u001b[39m y_predict_xgb = xgb.predict(x_test)\n",
      "\u001b[31mNameError\u001b[39m: name 'XGBRegressor' is not defined"
     ]
    }
   ],
   "source": [
    "# Lets use XGBoost Regressor\n",
    "\n",
    "print(\"Lets use the XGBoost Regressor Model..........\\n\")\n",
    "\n",
    "xgb = XGBRegressor(\n",
    "    n_estimators=300,\n",
    "    learning_rate=0.05,\n",
    "    max_depth=8,\n",
    "    subsample=0.8,\n",
    "    colsample_bytree=0.8,\n",
    "    random_state=42,\n",
    "    objective='reg:squarederror'\n",
    ")\n",
    "\n",
    "xgb.fit(x_train,y_train)\n",
    "y_predict_xgb = xgb.predict(x_test)\n",
    "\n",
    "print(\"XGBoost Model Performance:\\n\")\n",
    "print(\"Mean Absolute Error (MAE) : \",round(mean_absolute_error(y_test,y_predict_xgb)),2)\n",
    "print(\"Mean Square Error (MSE):\",round(mean_squared_error(y_test,y_predict_xgb)),2)\n",
    "print(\"Root Mean Squared Error:\",np.sqrt(mean_squared_error(y_test,y_predict_xgb)))\n",
    "print(\"R2 Score : \",(r2_score(y_test,y_predict_xgb))*100,\"%\")"
   ]
  },
  {
   "cell_type": "code",
   "execution_count": 27,
   "id": "4feae96a-a3e4-4acb-8392-b8a33fb634f9",
   "metadata": {},
   "outputs": [
    {
     "data": {
      "text/html": [
       "<div>\n",
       "<style scoped>\n",
       "    .dataframe tbody tr th:only-of-type {\n",
       "        vertical-align: middle;\n",
       "    }\n",
       "\n",
       "    .dataframe tbody tr th {\n",
       "        vertical-align: top;\n",
       "    }\n",
       "\n",
       "    .dataframe thead th {\n",
       "        text-align: right;\n",
       "    }\n",
       "</style>\n",
       "<table border=\"1\" class=\"dataframe\">\n",
       "  <thead>\n",
       "    <tr style=\"text-align: right;\">\n",
       "      <th></th>\n",
       "      <th>brand</th>\n",
       "      <th>unique_model_number</th>\n",
       "      <th>year</th>\n",
       "      <th>fuel</th>\n",
       "      <th>transmission</th>\n",
       "      <th>km_driven</th>\n",
       "      <th>owner</th>\n",
       "      <th>seller_type</th>\n",
       "      <th>selling_price</th>\n",
       "    </tr>\n",
       "  </thead>\n",
       "  <tbody>\n",
       "    <tr>\n",
       "      <th>0</th>\n",
       "      <td>97</td>\n",
       "      <td>431</td>\n",
       "      <td>2007</td>\n",
       "      <td>4</td>\n",
       "      <td>1</td>\n",
       "      <td>70000</td>\n",
       "      <td>0</td>\n",
       "      <td>1</td>\n",
       "      <td>60000</td>\n",
       "    </tr>\n",
       "    <tr>\n",
       "      <th>1</th>\n",
       "      <td>117</td>\n",
       "      <td>960</td>\n",
       "      <td>2007</td>\n",
       "      <td>4</td>\n",
       "      <td>1</td>\n",
       "      <td>50000</td>\n",
       "      <td>0</td>\n",
       "      <td>1</td>\n",
       "      <td>135000</td>\n",
       "    </tr>\n",
       "    <tr>\n",
       "      <th>2</th>\n",
       "      <td>69</td>\n",
       "      <td>231</td>\n",
       "      <td>2012</td>\n",
       "      <td>1</td>\n",
       "      <td>1</td>\n",
       "      <td>100000</td>\n",
       "      <td>0</td>\n",
       "      <td>1</td>\n",
       "      <td>600000</td>\n",
       "    </tr>\n",
       "    <tr>\n",
       "      <th>3</th>\n",
       "      <td>27</td>\n",
       "      <td>1103</td>\n",
       "      <td>2017</td>\n",
       "      <td>4</td>\n",
       "      <td>1</td>\n",
       "      <td>46000</td>\n",
       "      <td>0</td>\n",
       "      <td>1</td>\n",
       "      <td>250000</td>\n",
       "    </tr>\n",
       "    <tr>\n",
       "      <th>4</th>\n",
       "      <td>47</td>\n",
       "      <td>1182</td>\n",
       "      <td>2014</td>\n",
       "      <td>1</td>\n",
       "      <td>1</td>\n",
       "      <td>141000</td>\n",
       "      <td>2</td>\n",
       "      <td>1</td>\n",
       "      <td>450000</td>\n",
       "    </tr>\n",
       "  </tbody>\n",
       "</table>\n",
       "</div>"
      ],
      "text/plain": [
       "   brand  unique_model_number  year  fuel  transmission  km_driven  owner  \\\n",
       "0     97                  431  2007     4             1      70000      0   \n",
       "1    117                  960  2007     4             1      50000      0   \n",
       "2     69                  231  2012     1             1     100000      0   \n",
       "3     27                 1103  2017     4             1      46000      0   \n",
       "4     47                 1182  2014     1             1     141000      2   \n",
       "\n",
       "   seller_type  selling_price  \n",
       "0            1          60000  \n",
       "1            1         135000  \n",
       "2            1         600000  \n",
       "3            1         250000  \n",
       "4            1         450000  "
      ]
     },
     "execution_count": 27,
     "metadata": {},
     "output_type": "execute_result"
    }
   ],
   "source": [
    "df.head()"
   ]
  },
  {
   "cell_type": "code",
   "execution_count": 46,
   "id": "9ce3acb0-dbdf-4e75-90ef-14aee67cbacb",
   "metadata": {},
   "outputs": [
    {
     "name": "stdout",
     "output_type": "stream",
     "text": [
      "Lets Get the User Input and predict the Car Price for each model............\n",
      "\n",
      "Enter the Car Details here.........\n",
      "\n"
     ]
    },
    {
     "name": "stdout",
     "output_type": "stream",
     "text": [
      "Enter the Car Brand(e.g. Maruti Wagon): Maruti Wagon\n",
      "Enter the Unique model number of the car(e.g. R LXI Minor): R LXI Minor\n",
      "Enter the Year: 2024\n",
      "Enter the Fule Details from the ['Petrol', 'Diesel', 'CNG', 'LPG', 'Electric']: Petrol\n",
      "Enter the car Manuality from ['Manual', 'Automatic'] Manual\n",
      "Enter the KM Driven(e.g. 10526.2): 25000\n",
      "Enter the Owner type from ['First Owner', 'Second Owner', 'Fourth & Above Owner', 'Third Owner', 'Test Drive Car']: First oener\n",
      "Enter the Seller type from ['Individual', 'Dealer', 'Trustmark Dealer']: Individual\n"
     ]
    },
    {
     "name": "stdout",
     "output_type": "stream",
     "text": [
      "Using Linear Regression, Predicted Price: ₹683713.91\n",
      "Using Decision Tree Regressor, Predicted Price: ₹334666.64\n"
     ]
    },
    {
     "name": "stdout",
     "output_type": "stream",
     "text": [
      "\n",
      "---------------------------------------------\n",
      "Using Linear Regression, Predicted Price: ₹703501.89\n",
      "Using Decision Tree Regressor, Predicted Price: ₹282000.0\n",
      "---------------------------------------------\n"
     ]
    }
   ],
   "source": [
    "#User Input.\n",
    "print(\"Lets Get the User Input and predict the Car Price for each model............\\n\")\n",
    "\n",
    "print(\"Enter the Car Details here.........\\n\")\n",
    "\n",
    "fule_details = ['Petrol', 'Diesel', 'CNG', 'LPG' ,'Electric']\n",
    "transmission_details = ['Manual' ,'Automatic']\n",
    "owner_details = ['First Owner' ,'Second Owner' ,'Fourth & Above Owner' ,'Third Owner','Test Drive Car']\n",
    "seller_type_details = ['Individual', 'Dealer' ,'Trustmark Dealer']\n",
    "   \n",
    "brand = input(\"Enter the Car Brand(e.g. Maruti Wagon):\")\n",
    "unique_model_number = input(\"Enter the Unique model number of the car(e.g. R LXI Minor):\")\n",
    "year=int(input(\"Enter the Year:\"))\n",
    "fuel = input(f\"Enter the Fule Details from the {fule_details}:\")\n",
    "transmission = input(f\"Enter the car Manuality from {transmission_details}\")\n",
    "km_driven = float(input(\"Enter the KM Driven(e.g. 10526.2):\"))\n",
    "owner = input(f\"Enter the Owner type from {owner_details}:\")\n",
    "seller_type = input(f\"Enter the Seller type from {seller_type_details}:\")\n",
    "\n",
    "user_data = {\n",
    "    'brand' : brand,\n",
    "    'unique_model_number' : unique_model_number,\n",
    "    'year':year,\n",
    "    'fuel' : fuel,\n",
    "    'transmission' : transmission,\n",
    "    'km_driven' : km_driven,\n",
    "    'owner' : owner,\n",
    "    'seller_type' : seller_type,\n",
    "}\n",
    "\n",
    "data = pd.DataFrame([user_data])\n",
    "\n",
    "for col in categorical_cols:\n",
    "    if data[col][0] in encoders[col].classes_:\n",
    "        data[col] = encoders[col].transform(data[col])\n",
    "    else:\n",
    "        data[col] = -1\n",
    "\n",
    "user_scaled = scaler.transform(data)\n",
    "\n",
    "# Predict\n",
    "pred_lr = lr.predict(user_scaled)[0]\n",
    "pred_dtr = dtrm.predict(data)[0]\n",
    "predicted_price_xgboost = xgb.predict(data)[0]\n",
    "\n",
    "\n",
    "\n",
    "print(f\"Using Linear Regression, Predicted Price: ₹{round(pred_lr,2)}\\n\")\n",
    "print(f\"Using Decision Tree Regressor, Predicted Price: ₹{round(pred_dtr,2)}\\n\")\n",
    "print(f\"Using XGBoost, Predicted Price: ₹{round(predicted_price_xgboost,2)}\\n\")\n"
   ]
  },
  {
   "cell_type": "code",
   "execution_count": 28,
   "id": "315d0d21-1d8b-4843-9241-f18c1a0abc30",
   "metadata": {},
   "outputs": [
    {
     "name": "stdout",
     "output_type": "stream",
     "text": [
      "Shows overall distribution of car prices in the dataset........\n",
      "\n"
     ]
    },
    {
     "data": {
      "image/png": "[encoded data removed]",
      "text/plain": [
       "<Figure size 800x500 with 1 Axes>"
      ]
     },
     "metadata": {},
     "output_type": "display_data"
    }
   ],
   "source": [
    "#Shows overall distribution of car prices in the dataset.\n",
    "print(\"Shows overall distribution of car prices in the dataset........\\n\")\n",
    "plt.figure(figsize=(8,5))\n",
    "plt.hist(df['selling_price'], bins=40, color='red', edgecolor='black')\n",
    "plt.title(\"Distribution of Car Selling Prices\")\n",
    "plt.xlabel(\"Selling Price (in ₹)\")\n",
    "plt.ylabel(\"Number of Cars\")\n",
    "plt.grid(True, linestyle='--', alpha=0.6)\n",
    "plt.savefig(\"Graph images/Distribution_of_Car_Selling_Prices.jpg\",dpi=400,bbox_inches='tight')\n",
    "plt.show()"
   ]
  },
  {
   "cell_type": "code",
   "execution_count": 30,
   "id": "85fc8afa-2409-4306-a8a9-fc6e906a2359",
   "metadata": {},
   "outputs": [
    {
     "name": "stdout",
     "output_type": "stream",
     "text": [
      "Visualize how well each ML model performs (R² score).\n"
     ]
    },
    {
     "data": {
      "image/png": "[encoded data removed]",
      "text/plain": [
       "<Figure size 800x500 with 1 Axes>"
      ]
     },
     "metadata": {},
     "output_type": "display_data"
    }
   ],
   "source": [
    "#Visualize how well each ML model performs (R² score).\n",
    "print(\"Visualize how well each ML model performs (R² score).\")\n",
    "\n",
    "r2_scores = {\n",
    "    \"Linear Regression\": r2_score(y_test, y_predict_lr),\n",
    "    \"Decision Tree\": r2_score(y_test, y_predict_dtrm),\n",
    "    #\"XGBoost\": r2_score(y_test, y_predict_xgb)\n",
    "}\n",
    "\n",
    "plt.figure(figsize=(8,5))\n",
    "plt.bar(r2_scores.keys(),[v*100 for v in r2_scores.values()],color=['skyblue','lightcoral','lightgreen'], edgecolor='black')\n",
    "plt.title(\"Model Performance Comparison (R² Score %)\")\n",
    "plt.xlabel(\"R² Score\")\n",
    "plt.ylabel(\"Models\")\n",
    "plt.ylim(0, 100)\n",
    "plt.grid(True, linestyle='--', alpha=0.6)\n",
    "plt.savefig(\"Graph images/R2_score_comparission.jpg\",dpi=400,bbox_inches='tight')\n",
    "plt.show()"
   ]
  },
  {
   "cell_type": "code",
   "execution_count": null,
   "id": "cd0cc8ab",
   "metadata": {},
   "outputs": [],
   "source": []
  }
 ],
 "metadata": {
  "kernelspec": {
   "display_name": "Python 3",
   "language": "python",
   "name": "python3"
  },
  "language_info": {
   "codemirror_mode": {
    "name": "ipython",
    "version": 3
   },
   "file_extension": ".py",
   "mimetype": "text/x-python",
   "name": "python",
   "nbconvert_exporter": "python",
   "pygments_lexer": "ipython3",
   "version": "3.13.7"
  }
 },
 "nbformat": 4,
 "nbformat_minor": 5
}
